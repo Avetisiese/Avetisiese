{
 "cells": [
  {
   "cell_type": "code",
   "execution_count": 1,
   "metadata": {},
   "outputs": [],
   "source": [
    "# Data Analysis Robusta Coffee Price \n",
    "from bs4 import BeautifulSoup\n",
    "import requests\n",
    "import pandas\n",
    "import numpy\n",
    "from sklearn.metrics import r2_score,mean_squared_error\n",
    "from sklearn.ensemble import RandomForestRegressor\n",
    "from sklearn.tree import DecisionTreeRegressor\n",
    "from sklearn.linear_model import LinearRegression\n",
    "from sklearn.model_selection import train_test_split\n",
    "import matplotlib.pyplot as plt\n",
    "import seaborn as sns\n",
    "from math import sqrt\n",
    "import warnings\n",
    "warnings.filterwarnings('ignore')\n",
    "import matplotlib.pyplot as plt"
   ]
  },
  {
   "cell_type": "code",
   "execution_count": 2,
   "metadata": {},
   "outputs": [
    {
     "name": "stdout",
     "output_type": "stream",
     "text": [
      "       Month  Price  Change\n",
      "0   Jul 2017   2.31       -\n",
      "1   Aug 2017   2.30  -0.43%\n",
      "2   Sep 2017   2.19  -4.78%\n",
      "3   Oct 2017   2.17  -0.91%\n",
      "4   Nov 2017   2.01  -7.37%\n",
      "5   Dec 2017   1.93  -3.98%\n",
      "6   Jan 2018   1.95   1.04%\n",
      "7   Feb 2018   1.97   1.03%\n",
      "8   Mar 2018   1.94  -1.52%\n",
      "9   Apr 2018   1.95   0.52%\n",
      "10  May 2018   1.96   0.51%\n",
      "11  Jun 2018   1.90  -3.06%\n",
      "12  Jul 2018   1.86  -2.11%\n",
      "13  Aug 2018   1.78  -4.30%\n",
      "14  Sep 2018   1.69  -5.06%\n",
      "15  Oct 2018   1.88  11.24%\n",
      "16  Nov 2018   1.84  -2.13%\n",
      "17  Dec 2018   1.71  -7.07%\n",
      "18  Jan 2019   1.72   0.58%\n",
      "19  Feb 2019   1.73   0.58%\n",
      "20  Mar 2019   1.70  -1.73%\n",
      "21  Apr 2019   1.62  -4.71%\n",
      "22  May 2019   1.57  -3.09%\n",
      "23  Jun 2019   1.63   3.82%\n",
      "24  Jul 2019   1.63   0.00%\n",
      "25  Aug 2019   1.56  -4.29%\n",
      "26  Sep 2019   1.56   0.00%\n",
      "27  Oct 2019   1.51  -3.21%\n",
      "28  Nov 2019   1.62   7.28%\n",
      "29  Dec 2019   1.61  -0.62%\n",
      "30  Jan 2020   1.56  -3.11%\n",
      "31  Feb 2020   1.50  -3.85%\n",
      "32  Mar 2020   1.49  -0.67%\n",
      "33  Apr 2020   1.41  -5.37%\n",
      "34  May 2020   1.42   0.71%\n",
      "35  Jun 2020   1.42   0.00%\n",
      "36  Jul 2020   1.49   4.93%\n",
      "37  Aug 2020   1.60   7.38%\n",
      "38  Sep 2020   1.60   0.00%\n",
      "39  Oct 2020   1.51  -5.63%\n",
      "40  Nov 2020   1.60   5.96%\n",
      "41  Dec 2020   1.59  -0.62%\n",
      "42  Jan 2021   1.56  -1.89%\n",
      "43  Feb 2021   1.62   3.85%\n",
      "44  Mar 2021   1.63   0.62%\n",
      "45  Apr 2021   1.64   0.61%\n",
      "46  May 2021   1.76   7.32%\n",
      "47  Jun 2021   1.87   6.25%\n",
      "48  Jul 2021   2.08  11.23%\n",
      "49  Aug 2021   2.10   0.96%\n",
      "50  Sep 2021   2.31  10.00%\n",
      "51  Oct 2021   2.32   0.43%\n",
      "52  Nov 2021   2.41   3.88%\n",
      "53  Dec 2021   2.48   2.90%\n",
      "54  Jan 2022   2.43  -2.02%\n",
      "55  Feb 2022   2.41  -0.82%\n",
      "56  Mar 2022   2.29  -4.98%\n",
      "57  Apr 2022   2.29   0.00%\n",
      "58  May 2022   2.27  -0.87%\n",
      "59  Jun 2022   2.29   0.88%\n"
     ]
    }
   ],
   "source": [
    "#data exporting\n",
    "ds = pandas.read_html(\"https://www.indexmundi.com/commodities/?commodity=robusta-coffee&months=60\")\n",
    "print(ds[1])"
   ]
  },
  {
   "cell_type": "code",
   "execution_count": 63,
   "metadata": {},
   "outputs": [],
   "source": [
    "#dividing the month of a data column into two different columns to work properly\n",
    "ds[1]['Months'] = ds[1]['Month'].map(lambda x:x. split(' ')[0])\n",
    "ds[1]['Years'] = ds[1]['Month'].map(lambda x:x. split(' ')[1])"
   ]
  },
  {
   "cell_type": "code",
   "execution_count": 64,
   "metadata": {},
   "outputs": [
    {
     "data": {
      "text/html": [
       "<div>\n",
       "<style scoped>\n",
       "    .dataframe tbody tr th:only-of-type {\n",
       "        vertical-align: middle;\n",
       "    }\n",
       "\n",
       "    .dataframe tbody tr th {\n",
       "        vertical-align: top;\n",
       "    }\n",
       "\n",
       "    .dataframe thead th {\n",
       "        text-align: right;\n",
       "    }\n",
       "</style>\n",
       "<table border=\"1\" class=\"dataframe\">\n",
       "  <thead>\n",
       "    <tr style=\"text-align: right;\">\n",
       "      <th></th>\n",
       "      <th>Month</th>\n",
       "      <th>Price</th>\n",
       "      <th>Change</th>\n",
       "      <th>Months</th>\n",
       "      <th>Years</th>\n",
       "    </tr>\n",
       "  </thead>\n",
       "  <tbody>\n",
       "    <tr>\n",
       "      <th>0</th>\n",
       "      <td>Jul 2017</td>\n",
       "      <td>2.31</td>\n",
       "      <td>-</td>\n",
       "      <td>Jul</td>\n",
       "      <td>2017</td>\n",
       "    </tr>\n",
       "    <tr>\n",
       "      <th>1</th>\n",
       "      <td>Aug 2017</td>\n",
       "      <td>2.30</td>\n",
       "      <td>-0.43%</td>\n",
       "      <td>Aug</td>\n",
       "      <td>2017</td>\n",
       "    </tr>\n",
       "    <tr>\n",
       "      <th>2</th>\n",
       "      <td>Sep 2017</td>\n",
       "      <td>2.19</td>\n",
       "      <td>-4.78%</td>\n",
       "      <td>Sep</td>\n",
       "      <td>2017</td>\n",
       "    </tr>\n",
       "    <tr>\n",
       "      <th>3</th>\n",
       "      <td>Oct 2017</td>\n",
       "      <td>2.17</td>\n",
       "      <td>-0.91%</td>\n",
       "      <td>Oct</td>\n",
       "      <td>2017</td>\n",
       "    </tr>\n",
       "    <tr>\n",
       "      <th>4</th>\n",
       "      <td>Nov 2017</td>\n",
       "      <td>2.01</td>\n",
       "      <td>-7.37%</td>\n",
       "      <td>Nov</td>\n",
       "      <td>2017</td>\n",
       "    </tr>\n",
       "    <tr>\n",
       "      <th>5</th>\n",
       "      <td>Dec 2017</td>\n",
       "      <td>1.93</td>\n",
       "      <td>-3.98%</td>\n",
       "      <td>Dec</td>\n",
       "      <td>2017</td>\n",
       "    </tr>\n",
       "    <tr>\n",
       "      <th>6</th>\n",
       "      <td>Jan 2018</td>\n",
       "      <td>1.95</td>\n",
       "      <td>1.04%</td>\n",
       "      <td>Jan</td>\n",
       "      <td>2018</td>\n",
       "    </tr>\n",
       "    <tr>\n",
       "      <th>7</th>\n",
       "      <td>Feb 2018</td>\n",
       "      <td>1.97</td>\n",
       "      <td>1.03%</td>\n",
       "      <td>Feb</td>\n",
       "      <td>2018</td>\n",
       "    </tr>\n",
       "    <tr>\n",
       "      <th>8</th>\n",
       "      <td>Mar 2018</td>\n",
       "      <td>1.94</td>\n",
       "      <td>-1.52%</td>\n",
       "      <td>Mar</td>\n",
       "      <td>2018</td>\n",
       "    </tr>\n",
       "    <tr>\n",
       "      <th>9</th>\n",
       "      <td>Apr 2018</td>\n",
       "      <td>1.95</td>\n",
       "      <td>0.52%</td>\n",
       "      <td>Apr</td>\n",
       "      <td>2018</td>\n",
       "    </tr>\n",
       "    <tr>\n",
       "      <th>10</th>\n",
       "      <td>May 2018</td>\n",
       "      <td>1.96</td>\n",
       "      <td>0.51%</td>\n",
       "      <td>May</td>\n",
       "      <td>2018</td>\n",
       "    </tr>\n",
       "    <tr>\n",
       "      <th>11</th>\n",
       "      <td>Jun 2018</td>\n",
       "      <td>1.90</td>\n",
       "      <td>-3.06%</td>\n",
       "      <td>Jun</td>\n",
       "      <td>2018</td>\n",
       "    </tr>\n",
       "    <tr>\n",
       "      <th>12</th>\n",
       "      <td>Jul 2018</td>\n",
       "      <td>1.86</td>\n",
       "      <td>-2.11%</td>\n",
       "      <td>Jul</td>\n",
       "      <td>2018</td>\n",
       "    </tr>\n",
       "    <tr>\n",
       "      <th>13</th>\n",
       "      <td>Aug 2018</td>\n",
       "      <td>1.78</td>\n",
       "      <td>-4.30%</td>\n",
       "      <td>Aug</td>\n",
       "      <td>2018</td>\n",
       "    </tr>\n",
       "    <tr>\n",
       "      <th>14</th>\n",
       "      <td>Sep 2018</td>\n",
       "      <td>1.69</td>\n",
       "      <td>-5.06%</td>\n",
       "      <td>Sep</td>\n",
       "      <td>2018</td>\n",
       "    </tr>\n",
       "    <tr>\n",
       "      <th>15</th>\n",
       "      <td>Oct 2018</td>\n",
       "      <td>1.88</td>\n",
       "      <td>11.24%</td>\n",
       "      <td>Oct</td>\n",
       "      <td>2018</td>\n",
       "    </tr>\n",
       "    <tr>\n",
       "      <th>16</th>\n",
       "      <td>Nov 2018</td>\n",
       "      <td>1.84</td>\n",
       "      <td>-2.13%</td>\n",
       "      <td>Nov</td>\n",
       "      <td>2018</td>\n",
       "    </tr>\n",
       "    <tr>\n",
       "      <th>17</th>\n",
       "      <td>Dec 2018</td>\n",
       "      <td>1.71</td>\n",
       "      <td>-7.07%</td>\n",
       "      <td>Dec</td>\n",
       "      <td>2018</td>\n",
       "    </tr>\n",
       "    <tr>\n",
       "      <th>18</th>\n",
       "      <td>Jan 2019</td>\n",
       "      <td>1.72</td>\n",
       "      <td>0.58%</td>\n",
       "      <td>Jan</td>\n",
       "      <td>2019</td>\n",
       "    </tr>\n",
       "    <tr>\n",
       "      <th>19</th>\n",
       "      <td>Feb 2019</td>\n",
       "      <td>1.73</td>\n",
       "      <td>0.58%</td>\n",
       "      <td>Feb</td>\n",
       "      <td>2019</td>\n",
       "    </tr>\n",
       "    <tr>\n",
       "      <th>20</th>\n",
       "      <td>Mar 2019</td>\n",
       "      <td>1.70</td>\n",
       "      <td>-1.73%</td>\n",
       "      <td>Mar</td>\n",
       "      <td>2019</td>\n",
       "    </tr>\n",
       "    <tr>\n",
       "      <th>21</th>\n",
       "      <td>Apr 2019</td>\n",
       "      <td>1.62</td>\n",
       "      <td>-4.71%</td>\n",
       "      <td>Apr</td>\n",
       "      <td>2019</td>\n",
       "    </tr>\n",
       "    <tr>\n",
       "      <th>22</th>\n",
       "      <td>May 2019</td>\n",
       "      <td>1.57</td>\n",
       "      <td>-3.09%</td>\n",
       "      <td>May</td>\n",
       "      <td>2019</td>\n",
       "    </tr>\n",
       "    <tr>\n",
       "      <th>23</th>\n",
       "      <td>Jun 2019</td>\n",
       "      <td>1.63</td>\n",
       "      <td>3.82%</td>\n",
       "      <td>Jun</td>\n",
       "      <td>2019</td>\n",
       "    </tr>\n",
       "    <tr>\n",
       "      <th>24</th>\n",
       "      <td>Jul 2019</td>\n",
       "      <td>1.63</td>\n",
       "      <td>0.00%</td>\n",
       "      <td>Jul</td>\n",
       "      <td>2019</td>\n",
       "    </tr>\n",
       "    <tr>\n",
       "      <th>25</th>\n",
       "      <td>Aug 2019</td>\n",
       "      <td>1.56</td>\n",
       "      <td>-4.29%</td>\n",
       "      <td>Aug</td>\n",
       "      <td>2019</td>\n",
       "    </tr>\n",
       "    <tr>\n",
       "      <th>26</th>\n",
       "      <td>Sep 2019</td>\n",
       "      <td>1.56</td>\n",
       "      <td>0.00%</td>\n",
       "      <td>Sep</td>\n",
       "      <td>2019</td>\n",
       "    </tr>\n",
       "    <tr>\n",
       "      <th>27</th>\n",
       "      <td>Oct 2019</td>\n",
       "      <td>1.51</td>\n",
       "      <td>-3.21%</td>\n",
       "      <td>Oct</td>\n",
       "      <td>2019</td>\n",
       "    </tr>\n",
       "    <tr>\n",
       "      <th>28</th>\n",
       "      <td>Nov 2019</td>\n",
       "      <td>1.62</td>\n",
       "      <td>7.28%</td>\n",
       "      <td>Nov</td>\n",
       "      <td>2019</td>\n",
       "    </tr>\n",
       "    <tr>\n",
       "      <th>29</th>\n",
       "      <td>Dec 2019</td>\n",
       "      <td>1.61</td>\n",
       "      <td>-0.62%</td>\n",
       "      <td>Dec</td>\n",
       "      <td>2019</td>\n",
       "    </tr>\n",
       "    <tr>\n",
       "      <th>30</th>\n",
       "      <td>Jan 2020</td>\n",
       "      <td>1.56</td>\n",
       "      <td>-3.11%</td>\n",
       "      <td>Jan</td>\n",
       "      <td>2020</td>\n",
       "    </tr>\n",
       "    <tr>\n",
       "      <th>31</th>\n",
       "      <td>Feb 2020</td>\n",
       "      <td>1.50</td>\n",
       "      <td>-3.85%</td>\n",
       "      <td>Feb</td>\n",
       "      <td>2020</td>\n",
       "    </tr>\n",
       "    <tr>\n",
       "      <th>32</th>\n",
       "      <td>Mar 2020</td>\n",
       "      <td>1.49</td>\n",
       "      <td>-0.67%</td>\n",
       "      <td>Mar</td>\n",
       "      <td>2020</td>\n",
       "    </tr>\n",
       "    <tr>\n",
       "      <th>33</th>\n",
       "      <td>Apr 2020</td>\n",
       "      <td>1.41</td>\n",
       "      <td>-5.37%</td>\n",
       "      <td>Apr</td>\n",
       "      <td>2020</td>\n",
       "    </tr>\n",
       "    <tr>\n",
       "      <th>34</th>\n",
       "      <td>May 2020</td>\n",
       "      <td>1.42</td>\n",
       "      <td>0.71%</td>\n",
       "      <td>May</td>\n",
       "      <td>2020</td>\n",
       "    </tr>\n",
       "    <tr>\n",
       "      <th>35</th>\n",
       "      <td>Jun 2020</td>\n",
       "      <td>1.42</td>\n",
       "      <td>0.00%</td>\n",
       "      <td>Jun</td>\n",
       "      <td>2020</td>\n",
       "    </tr>\n",
       "    <tr>\n",
       "      <th>36</th>\n",
       "      <td>Jul 2020</td>\n",
       "      <td>1.49</td>\n",
       "      <td>4.93%</td>\n",
       "      <td>Jul</td>\n",
       "      <td>2020</td>\n",
       "    </tr>\n",
       "    <tr>\n",
       "      <th>37</th>\n",
       "      <td>Aug 2020</td>\n",
       "      <td>1.60</td>\n",
       "      <td>7.38%</td>\n",
       "      <td>Aug</td>\n",
       "      <td>2020</td>\n",
       "    </tr>\n",
       "    <tr>\n",
       "      <th>38</th>\n",
       "      <td>Sep 2020</td>\n",
       "      <td>1.60</td>\n",
       "      <td>0.00%</td>\n",
       "      <td>Sep</td>\n",
       "      <td>2020</td>\n",
       "    </tr>\n",
       "    <tr>\n",
       "      <th>39</th>\n",
       "      <td>Oct 2020</td>\n",
       "      <td>1.51</td>\n",
       "      <td>-5.63%</td>\n",
       "      <td>Oct</td>\n",
       "      <td>2020</td>\n",
       "    </tr>\n",
       "    <tr>\n",
       "      <th>40</th>\n",
       "      <td>Nov 2020</td>\n",
       "      <td>1.60</td>\n",
       "      <td>5.96%</td>\n",
       "      <td>Nov</td>\n",
       "      <td>2020</td>\n",
       "    </tr>\n",
       "    <tr>\n",
       "      <th>41</th>\n",
       "      <td>Dec 2020</td>\n",
       "      <td>1.59</td>\n",
       "      <td>-0.62%</td>\n",
       "      <td>Dec</td>\n",
       "      <td>2020</td>\n",
       "    </tr>\n",
       "    <tr>\n",
       "      <th>42</th>\n",
       "      <td>Jan 2021</td>\n",
       "      <td>1.56</td>\n",
       "      <td>-1.89%</td>\n",
       "      <td>Jan</td>\n",
       "      <td>2021</td>\n",
       "    </tr>\n",
       "    <tr>\n",
       "      <th>43</th>\n",
       "      <td>Feb 2021</td>\n",
       "      <td>1.62</td>\n",
       "      <td>3.85%</td>\n",
       "      <td>Feb</td>\n",
       "      <td>2021</td>\n",
       "    </tr>\n",
       "    <tr>\n",
       "      <th>44</th>\n",
       "      <td>Mar 2021</td>\n",
       "      <td>1.63</td>\n",
       "      <td>0.62%</td>\n",
       "      <td>Mar</td>\n",
       "      <td>2021</td>\n",
       "    </tr>\n",
       "    <tr>\n",
       "      <th>45</th>\n",
       "      <td>Apr 2021</td>\n",
       "      <td>1.64</td>\n",
       "      <td>0.61%</td>\n",
       "      <td>Apr</td>\n",
       "      <td>2021</td>\n",
       "    </tr>\n",
       "    <tr>\n",
       "      <th>46</th>\n",
       "      <td>May 2021</td>\n",
       "      <td>1.76</td>\n",
       "      <td>7.32%</td>\n",
       "      <td>May</td>\n",
       "      <td>2021</td>\n",
       "    </tr>\n",
       "    <tr>\n",
       "      <th>47</th>\n",
       "      <td>Jun 2021</td>\n",
       "      <td>1.87</td>\n",
       "      <td>6.25%</td>\n",
       "      <td>Jun</td>\n",
       "      <td>2021</td>\n",
       "    </tr>\n",
       "    <tr>\n",
       "      <th>48</th>\n",
       "      <td>Jul 2021</td>\n",
       "      <td>2.08</td>\n",
       "      <td>11.23%</td>\n",
       "      <td>Jul</td>\n",
       "      <td>2021</td>\n",
       "    </tr>\n",
       "    <tr>\n",
       "      <th>49</th>\n",
       "      <td>Aug 2021</td>\n",
       "      <td>2.10</td>\n",
       "      <td>0.96%</td>\n",
       "      <td>Aug</td>\n",
       "      <td>2021</td>\n",
       "    </tr>\n",
       "    <tr>\n",
       "      <th>50</th>\n",
       "      <td>Sep 2021</td>\n",
       "      <td>2.31</td>\n",
       "      <td>10.00%</td>\n",
       "      <td>Sep</td>\n",
       "      <td>2021</td>\n",
       "    </tr>\n",
       "    <tr>\n",
       "      <th>51</th>\n",
       "      <td>Oct 2021</td>\n",
       "      <td>2.32</td>\n",
       "      <td>0.43%</td>\n",
       "      <td>Oct</td>\n",
       "      <td>2021</td>\n",
       "    </tr>\n",
       "    <tr>\n",
       "      <th>52</th>\n",
       "      <td>Nov 2021</td>\n",
       "      <td>2.41</td>\n",
       "      <td>3.88%</td>\n",
       "      <td>Nov</td>\n",
       "      <td>2021</td>\n",
       "    </tr>\n",
       "    <tr>\n",
       "      <th>53</th>\n",
       "      <td>Dec 2021</td>\n",
       "      <td>2.48</td>\n",
       "      <td>2.90%</td>\n",
       "      <td>Dec</td>\n",
       "      <td>2021</td>\n",
       "    </tr>\n",
       "    <tr>\n",
       "      <th>54</th>\n",
       "      <td>Jan 2022</td>\n",
       "      <td>2.43</td>\n",
       "      <td>-2.02%</td>\n",
       "      <td>Jan</td>\n",
       "      <td>2022</td>\n",
       "    </tr>\n",
       "    <tr>\n",
       "      <th>55</th>\n",
       "      <td>Feb 2022</td>\n",
       "      <td>2.41</td>\n",
       "      <td>-0.82%</td>\n",
       "      <td>Feb</td>\n",
       "      <td>2022</td>\n",
       "    </tr>\n",
       "    <tr>\n",
       "      <th>56</th>\n",
       "      <td>Mar 2022</td>\n",
       "      <td>2.29</td>\n",
       "      <td>-4.98%</td>\n",
       "      <td>Mar</td>\n",
       "      <td>2022</td>\n",
       "    </tr>\n",
       "    <tr>\n",
       "      <th>57</th>\n",
       "      <td>Apr 2022</td>\n",
       "      <td>2.29</td>\n",
       "      <td>0.00%</td>\n",
       "      <td>Apr</td>\n",
       "      <td>2022</td>\n",
       "    </tr>\n",
       "    <tr>\n",
       "      <th>58</th>\n",
       "      <td>May 2022</td>\n",
       "      <td>2.27</td>\n",
       "      <td>-0.87%</td>\n",
       "      <td>May</td>\n",
       "      <td>2022</td>\n",
       "    </tr>\n",
       "    <tr>\n",
       "      <th>59</th>\n",
       "      <td>Jun 2022</td>\n",
       "      <td>2.29</td>\n",
       "      <td>0.88%</td>\n",
       "      <td>Jun</td>\n",
       "      <td>2022</td>\n",
       "    </tr>\n",
       "  </tbody>\n",
       "</table>\n",
       "</div>"
      ],
      "text/plain": [
       "       Month  Price  Change Months Years\n",
       "0   Jul 2017   2.31       -    Jul  2017\n",
       "1   Aug 2017   2.30  -0.43%    Aug  2017\n",
       "2   Sep 2017   2.19  -4.78%    Sep  2017\n",
       "3   Oct 2017   2.17  -0.91%    Oct  2017\n",
       "4   Nov 2017   2.01  -7.37%    Nov  2017\n",
       "5   Dec 2017   1.93  -3.98%    Dec  2017\n",
       "6   Jan 2018   1.95   1.04%    Jan  2018\n",
       "7   Feb 2018   1.97   1.03%    Feb  2018\n",
       "8   Mar 2018   1.94  -1.52%    Mar  2018\n",
       "9   Apr 2018   1.95   0.52%    Apr  2018\n",
       "10  May 2018   1.96   0.51%    May  2018\n",
       "11  Jun 2018   1.90  -3.06%    Jun  2018\n",
       "12  Jul 2018   1.86  -2.11%    Jul  2018\n",
       "13  Aug 2018   1.78  -4.30%    Aug  2018\n",
       "14  Sep 2018   1.69  -5.06%    Sep  2018\n",
       "15  Oct 2018   1.88  11.24%    Oct  2018\n",
       "16  Nov 2018   1.84  -2.13%    Nov  2018\n",
       "17  Dec 2018   1.71  -7.07%    Dec  2018\n",
       "18  Jan 2019   1.72   0.58%    Jan  2019\n",
       "19  Feb 2019   1.73   0.58%    Feb  2019\n",
       "20  Mar 2019   1.70  -1.73%    Mar  2019\n",
       "21  Apr 2019   1.62  -4.71%    Apr  2019\n",
       "22  May 2019   1.57  -3.09%    May  2019\n",
       "23  Jun 2019   1.63   3.82%    Jun  2019\n",
       "24  Jul 2019   1.63   0.00%    Jul  2019\n",
       "25  Aug 2019   1.56  -4.29%    Aug  2019\n",
       "26  Sep 2019   1.56   0.00%    Sep  2019\n",
       "27  Oct 2019   1.51  -3.21%    Oct  2019\n",
       "28  Nov 2019   1.62   7.28%    Nov  2019\n",
       "29  Dec 2019   1.61  -0.62%    Dec  2019\n",
       "30  Jan 2020   1.56  -3.11%    Jan  2020\n",
       "31  Feb 2020   1.50  -3.85%    Feb  2020\n",
       "32  Mar 2020   1.49  -0.67%    Mar  2020\n",
       "33  Apr 2020   1.41  -5.37%    Apr  2020\n",
       "34  May 2020   1.42   0.71%    May  2020\n",
       "35  Jun 2020   1.42   0.00%    Jun  2020\n",
       "36  Jul 2020   1.49   4.93%    Jul  2020\n",
       "37  Aug 2020   1.60   7.38%    Aug  2020\n",
       "38  Sep 2020   1.60   0.00%    Sep  2020\n",
       "39  Oct 2020   1.51  -5.63%    Oct  2020\n",
       "40  Nov 2020   1.60   5.96%    Nov  2020\n",
       "41  Dec 2020   1.59  -0.62%    Dec  2020\n",
       "42  Jan 2021   1.56  -1.89%    Jan  2021\n",
       "43  Feb 2021   1.62   3.85%    Feb  2021\n",
       "44  Mar 2021   1.63   0.62%    Mar  2021\n",
       "45  Apr 2021   1.64   0.61%    Apr  2021\n",
       "46  May 2021   1.76   7.32%    May  2021\n",
       "47  Jun 2021   1.87   6.25%    Jun  2021\n",
       "48  Jul 2021   2.08  11.23%    Jul  2021\n",
       "49  Aug 2021   2.10   0.96%    Aug  2021\n",
       "50  Sep 2021   2.31  10.00%    Sep  2021\n",
       "51  Oct 2021   2.32   0.43%    Oct  2021\n",
       "52  Nov 2021   2.41   3.88%    Nov  2021\n",
       "53  Dec 2021   2.48   2.90%    Dec  2021\n",
       "54  Jan 2022   2.43  -2.02%    Jan  2022\n",
       "55  Feb 2022   2.41  -0.82%    Feb  2022\n",
       "56  Mar 2022   2.29  -4.98%    Mar  2022\n",
       "57  Apr 2022   2.29   0.00%    Apr  2022\n",
       "58  May 2022   2.27  -0.87%    May  2022\n",
       "59  Jun 2022   2.29   0.88%    Jun  2022"
      ]
     },
     "execution_count": 64,
     "metadata": {},
     "output_type": "execute_result"
    }
   ],
   "source": [
    "ds[1]"
   ]
  },
  {
   "cell_type": "code",
   "execution_count": 65,
   "metadata": {},
   "outputs": [
    {
     "data": {
      "text/html": [
       "<div>\n",
       "<style scoped>\n",
       "    .dataframe tbody tr th:only-of-type {\n",
       "        vertical-align: middle;\n",
       "    }\n",
       "\n",
       "    .dataframe tbody tr th {\n",
       "        vertical-align: top;\n",
       "    }\n",
       "\n",
       "    .dataframe thead th {\n",
       "        text-align: right;\n",
       "    }\n",
       "</style>\n",
       "<table border=\"1\" class=\"dataframe\">\n",
       "  <thead>\n",
       "    <tr style=\"text-align: right;\">\n",
       "      <th></th>\n",
       "      <th>Month</th>\n",
       "      <th>Price</th>\n",
       "      <th>Change</th>\n",
       "      <th>Months</th>\n",
       "      <th>Years</th>\n",
       "    </tr>\n",
       "  </thead>\n",
       "  <tbody>\n",
       "    <tr>\n",
       "      <th>0</th>\n",
       "      <td>Jul 2017</td>\n",
       "      <td>2.31</td>\n",
       "      <td>-</td>\n",
       "      <td>Jul</td>\n",
       "      <td>2017</td>\n",
       "    </tr>\n",
       "    <tr>\n",
       "      <th>1</th>\n",
       "      <td>Aug 2017</td>\n",
       "      <td>2.30</td>\n",
       "      <td>-0.43%</td>\n",
       "      <td>Aug</td>\n",
       "      <td>2017</td>\n",
       "    </tr>\n",
       "    <tr>\n",
       "      <th>2</th>\n",
       "      <td>Sep 2017</td>\n",
       "      <td>2.19</td>\n",
       "      <td>-4.78%</td>\n",
       "      <td>Sep</td>\n",
       "      <td>2017</td>\n",
       "    </tr>\n",
       "    <tr>\n",
       "      <th>3</th>\n",
       "      <td>Oct 2017</td>\n",
       "      <td>2.17</td>\n",
       "      <td>-0.91%</td>\n",
       "      <td>Oct</td>\n",
       "      <td>2017</td>\n",
       "    </tr>\n",
       "    <tr>\n",
       "      <th>4</th>\n",
       "      <td>Nov 2017</td>\n",
       "      <td>2.01</td>\n",
       "      <td>-7.37%</td>\n",
       "      <td>Nov</td>\n",
       "      <td>2017</td>\n",
       "    </tr>\n",
       "  </tbody>\n",
       "</table>\n",
       "</div>"
      ],
      "text/plain": [
       "      Month  Price  Change Months Years\n",
       "0  Jul 2017   2.31       -    Jul  2017\n",
       "1  Aug 2017   2.30  -0.43%    Aug  2017\n",
       "2  Sep 2017   2.19  -4.78%    Sep  2017\n",
       "3  Oct 2017   2.17  -0.91%    Oct  2017\n",
       "4  Nov 2017   2.01  -7.37%    Nov  2017"
      ]
     },
     "execution_count": 65,
     "metadata": {},
     "output_type": "execute_result"
    }
   ],
   "source": [
    "#now we can clearly see all the data\n",
    "ds[1].head()"
   ]
  },
  {
   "cell_type": "code",
   "execution_count": 6,
   "metadata": {},
   "outputs": [
    {
     "data": {
      "text/html": [
       "<div>\n",
       "<style scoped>\n",
       "    .dataframe tbody tr th:only-of-type {\n",
       "        vertical-align: middle;\n",
       "    }\n",
       "\n",
       "    .dataframe tbody tr th {\n",
       "        vertical-align: top;\n",
       "    }\n",
       "\n",
       "    .dataframe thead th {\n",
       "        text-align: right;\n",
       "    }\n",
       "</style>\n",
       "<table border=\"1\" class=\"dataframe\">\n",
       "  <thead>\n",
       "    <tr style=\"text-align: right;\">\n",
       "      <th></th>\n",
       "      <th>Price</th>\n",
       "    </tr>\n",
       "  </thead>\n",
       "  <tbody>\n",
       "    <tr>\n",
       "      <th>count</th>\n",
       "      <td>60.000000</td>\n",
       "    </tr>\n",
       "    <tr>\n",
       "      <th>mean</th>\n",
       "      <td>1.845833</td>\n",
       "    </tr>\n",
       "    <tr>\n",
       "      <th>std</th>\n",
       "      <td>0.312211</td>\n",
       "    </tr>\n",
       "    <tr>\n",
       "      <th>min</th>\n",
       "      <td>1.410000</td>\n",
       "    </tr>\n",
       "    <tr>\n",
       "      <th>25%</th>\n",
       "      <td>1.600000</td>\n",
       "    </tr>\n",
       "    <tr>\n",
       "      <th>50%</th>\n",
       "      <td>1.745000</td>\n",
       "    </tr>\n",
       "    <tr>\n",
       "      <th>75%</th>\n",
       "      <td>2.085000</td>\n",
       "    </tr>\n",
       "    <tr>\n",
       "      <th>max</th>\n",
       "      <td>2.480000</td>\n",
       "    </tr>\n",
       "  </tbody>\n",
       "</table>\n",
       "</div>"
      ],
      "text/plain": [
       "           Price\n",
       "count  60.000000\n",
       "mean    1.845833\n",
       "std     0.312211\n",
       "min     1.410000\n",
       "25%     1.600000\n",
       "50%     1.745000\n",
       "75%     2.085000\n",
       "max     2.480000"
      ]
     },
     "execution_count": 6,
     "metadata": {},
     "output_type": "execute_result"
    }
   ],
   "source": [
    "#Here we see that we are analyzing 60 months and the average price of Robusta coffee was $1.85.\n",
    "ds[1].describe()"
   ]
  },
  {
   "cell_type": "code",
   "execution_count": 7,
   "metadata": {},
   "outputs": [
    {
     "data": {
      "text/plain": [
       "Month     Sep 2021\n",
       "Price         2.48\n",
       "Change       7.38%\n",
       "Months         Sep\n",
       "Years         2022\n",
       "dtype: object"
      ]
     },
     "execution_count": 7,
     "metadata": {},
     "output_type": "execute_result"
    }
   ],
   "source": [
    "# The maximum price of coffee was in September 2021, rounded up to 2.48.\n",
    "ds[1].max()"
   ]
  },
  {
   "cell_type": "code",
   "execution_count": 8,
   "metadata": {},
   "outputs": [
    {
     "data": {
      "text/plain": [
       "Month     Apr 2018\n",
       "Price         1.41\n",
       "Change           -\n",
       "Months         Apr\n",
       "Years         2017\n",
       "dtype: object"
      ]
     },
     "execution_count": 8,
     "metadata": {},
     "output_type": "execute_result"
    }
   ],
   "source": [
    "#Coffee price low was 1.41 in April 2018.\n",
    "ds[1].min()"
   ]
  },
  {
   "cell_type": "code",
   "execution_count": 10,
   "metadata": {},
   "outputs": [
    {
     "name": "stdout",
     "output_type": "stream",
     "text": [
      "<class 'pandas.core.frame.DataFrame'>\n",
      "RangeIndex: 60 entries, 0 to 59\n",
      "Data columns (total 5 columns):\n",
      " #   Column  Non-Null Count  Dtype  \n",
      "---  ------  --------------  -----  \n",
      " 0   Month   60 non-null     object \n",
      " 1   Price   60 non-null     float64\n",
      " 2   Change  60 non-null     object \n",
      " 3   Months  60 non-null     object \n",
      " 4   Years   60 non-null     object \n",
      "dtypes: float64(1), object(4)\n",
      "memory usage: 2.5+ KB\n"
     ]
    }
   ],
   "source": [
    "# We don't need to remove null values because we have complete data\n",
    "ds[1].info()"
   ]
  },
  {
   "cell_type": "code",
   "execution_count": 15,
   "metadata": {},
   "outputs": [
    {
     "name": "stdout",
     "output_type": "stream",
     "text": [
      "Requirement already satisfied: missingno in /opt/anaconda3/lib/python3.7/site-packages (0.5.1)\n",
      "Requirement already satisfied: matplotlib in /opt/anaconda3/lib/python3.7/site-packages (from missingno) (3.4.3)\n",
      "Requirement already satisfied: numpy in /opt/anaconda3/lib/python3.7/site-packages (from missingno) (1.19.5)\n",
      "Requirement already satisfied: seaborn in /opt/anaconda3/lib/python3.7/site-packages (from missingno) (0.11.2)\n",
      "Requirement already satisfied: scipy in /opt/anaconda3/lib/python3.7/site-packages (from missingno) (1.3.1)\n",
      "Requirement already satisfied: kiwisolver>=1.0.1 in /opt/anaconda3/lib/python3.7/site-packages (from matplotlib->missingno) (1.1.0)\n",
      "Requirement already satisfied: python-dateutil>=2.7 in /opt/anaconda3/lib/python3.7/site-packages (from matplotlib->missingno) (2.8.0)\n",
      "Requirement already satisfied: pillow>=6.2.0 in /opt/anaconda3/lib/python3.7/site-packages (from matplotlib->missingno) (6.2.0)\n",
      "Requirement already satisfied: pyparsing>=2.2.1 in /opt/anaconda3/lib/python3.7/site-packages (from matplotlib->missingno) (2.4.2)\n",
      "Requirement already satisfied: cycler>=0.10 in /opt/anaconda3/lib/python3.7/site-packages (from matplotlib->missingno) (0.10.0)\n",
      "Requirement already satisfied: pandas>=0.23 in /opt/anaconda3/lib/python3.7/site-packages (from seaborn->missingno) (1.3.0)\n",
      "Requirement already satisfied: setuptools in /opt/anaconda3/lib/python3.7/site-packages (from kiwisolver>=1.0.1->matplotlib->missingno) (41.4.0)\n",
      "Requirement already satisfied: six>=1.5 in /opt/anaconda3/lib/python3.7/site-packages (from python-dateutil>=2.7->matplotlib->missingno) (1.12.0)\n",
      "Requirement already satisfied: pytz>=2017.3 in /opt/anaconda3/lib/python3.7/site-packages (from pandas>=0.23->seaborn->missingno) (2019.3)\n",
      "Note: you may need to restart the kernel to use updated packages.\n"
     ]
    }
   ],
   "source": [
    "pip install missingno"
   ]
  },
  {
   "cell_type": "code",
   "execution_count": 70,
   "metadata": {},
   "outputs": [],
   "source": [
    "import missingno as msno"
   ]
  },
  {
   "cell_type": "code",
   "execution_count": 71,
   "metadata": {},
   "outputs": [
    {
     "name": "stdout",
     "output_type": "stream",
     "text": [
      "       Month  Price  Change\n",
      "0   Jul 2017   2.31       -\n",
      "1   Aug 2017   2.30  -0.43%\n",
      "2   Sep 2017   2.19  -4.78%\n",
      "3   Oct 2017   2.17  -0.91%\n",
      "4   Nov 2017   2.01  -7.37%\n",
      "5   Dec 2017   1.93  -3.98%\n",
      "6   Jan 2018   1.95   1.04%\n",
      "7   Feb 2018   1.97   1.03%\n",
      "8   Mar 2018   1.94  -1.52%\n",
      "9   Apr 2018   1.95   0.52%\n",
      "10  May 2018   1.96   0.51%\n",
      "11  Jun 2018   1.90  -3.06%\n",
      "12  Jul 2018   1.86  -2.11%\n",
      "13  Aug 2018   1.78  -4.30%\n",
      "14  Sep 2018   1.69  -5.06%\n",
      "15  Oct 2018   1.88  11.24%\n",
      "16  Nov 2018   1.84  -2.13%\n",
      "17  Dec 2018   1.71  -7.07%\n",
      "18  Jan 2019   1.72   0.58%\n",
      "19  Feb 2019   1.73   0.58%\n",
      "20  Mar 2019   1.70  -1.73%\n",
      "21  Apr 2019   1.62  -4.71%\n",
      "22  May 2019   1.57  -3.09%\n",
      "23  Jun 2019   1.63   3.82%\n",
      "24  Jul 2019   1.63   0.00%\n",
      "25  Aug 2019   1.56  -4.29%\n",
      "26  Sep 2019   1.56   0.00%\n",
      "27  Oct 2019   1.51  -3.21%\n",
      "28  Nov 2019   1.62   7.28%\n",
      "29  Dec 2019   1.61  -0.62%\n",
      "30  Jan 2020   1.56  -3.11%\n",
      "31  Feb 2020   1.50  -3.85%\n",
      "32  Mar 2020   1.49  -0.67%\n",
      "33  Apr 2020   1.41  -5.37%\n",
      "34  May 2020   1.42   0.71%\n",
      "35  Jun 2020   1.42   0.00%\n",
      "36  Jul 2020   1.49   4.93%\n",
      "37  Aug 2020   1.60   7.38%\n",
      "38  Sep 2020   1.60   0.00%\n",
      "39  Oct 2020   1.51  -5.63%\n",
      "40  Nov 2020   1.60   5.96%\n",
      "41  Dec 2020   1.59  -0.62%\n",
      "42  Jan 2021   1.56  -1.89%\n",
      "43  Feb 2021   1.62   3.85%\n",
      "44  Mar 2021   1.63   0.62%\n",
      "45  Apr 2021   1.64   0.61%\n",
      "46  May 2021   1.76   7.32%\n",
      "47  Jun 2021   1.87   6.25%\n",
      "48  Jul 2021   2.08  11.23%\n",
      "49  Aug 2021   2.10   0.96%\n",
      "50  Sep 2021   2.31  10.00%\n",
      "51  Oct 2021   2.32   0.43%\n",
      "52  Nov 2021   2.41   3.88%\n",
      "53  Dec 2021   2.48   2.90%\n",
      "54  Jan 2022   2.43  -2.02%\n",
      "55  Feb 2022   2.41  -0.82%\n",
      "56  Mar 2022   2.29  -4.98%\n",
      "57  Apr 2022   2.29   0.00%\n",
      "58  May 2022   2.27  -0.87%\n",
      "59  Jun 2022   2.29   0.88%\n"
     ]
    }
   ],
   "source": [
    "ds = pandas.read_html(\"https://www.indexmundi.com/commodities/?commodity=robusta-coffee&months=60\")\n",
    "print(ds[1])"
   ]
  },
  {
   "cell_type": "code",
   "execution_count": 72,
   "metadata": {},
   "outputs": [
    {
     "data": {
      "text/html": [
       "<div>\n",
       "<style scoped>\n",
       "    .dataframe tbody tr th:only-of-type {\n",
       "        vertical-align: middle;\n",
       "    }\n",
       "\n",
       "    .dataframe tbody tr th {\n",
       "        vertical-align: top;\n",
       "    }\n",
       "\n",
       "    .dataframe thead th {\n",
       "        text-align: right;\n",
       "    }\n",
       "</style>\n",
       "<table border=\"1\" class=\"dataframe\">\n",
       "  <thead>\n",
       "    <tr style=\"text-align: right;\">\n",
       "      <th></th>\n",
       "      <th>Price</th>\n",
       "    </tr>\n",
       "  </thead>\n",
       "  <tbody>\n",
       "    <tr>\n",
       "      <th>count</th>\n",
       "      <td>60.000000</td>\n",
       "    </tr>\n",
       "    <tr>\n",
       "      <th>mean</th>\n",
       "      <td>1.845833</td>\n",
       "    </tr>\n",
       "    <tr>\n",
       "      <th>std</th>\n",
       "      <td>0.312211</td>\n",
       "    </tr>\n",
       "    <tr>\n",
       "      <th>min</th>\n",
       "      <td>1.410000</td>\n",
       "    </tr>\n",
       "    <tr>\n",
       "      <th>25%</th>\n",
       "      <td>1.600000</td>\n",
       "    </tr>\n",
       "    <tr>\n",
       "      <th>50%</th>\n",
       "      <td>1.745000</td>\n",
       "    </tr>\n",
       "    <tr>\n",
       "      <th>75%</th>\n",
       "      <td>2.085000</td>\n",
       "    </tr>\n",
       "    <tr>\n",
       "      <th>max</th>\n",
       "      <td>2.480000</td>\n",
       "    </tr>\n",
       "  </tbody>\n",
       "</table>\n",
       "</div>"
      ],
      "text/plain": [
       "           Price\n",
       "count  60.000000\n",
       "mean    1.845833\n",
       "std     0.312211\n",
       "min     1.410000\n",
       "25%     1.600000\n",
       "50%     1.745000\n",
       "75%     2.085000\n",
       "max     2.480000"
      ]
     },
     "execution_count": 72,
     "metadata": {},
     "output_type": "execute_result"
    }
   ],
   "source": [
    "ds[1].describe()"
   ]
  },
  {
   "cell_type": "code",
   "execution_count": 73,
   "metadata": {},
   "outputs": [
    {
     "name": "stdout",
     "output_type": "stream",
     "text": [
      "<class 'pandas.core.frame.DataFrame'>\n",
      "RangeIndex: 60 entries, 0 to 59\n",
      "Data columns (total 3 columns):\n",
      " #   Column  Non-Null Count  Dtype  \n",
      "---  ------  --------------  -----  \n",
      " 0   Month   60 non-null     object \n",
      " 1   Price   60 non-null     float64\n",
      " 2   Change  60 non-null     object \n",
      "dtypes: float64(1), object(2)\n",
      "memory usage: 1.5+ KB\n"
     ]
    }
   ],
   "source": [
    "ds[1].info()"
   ]
  },
  {
   "cell_type": "code",
   "execution_count": 74,
   "metadata": {},
   "outputs": [
    {
     "data": {
      "text/plain": [
       "Month     0\n",
       "Price     0\n",
       "Change    0\n",
       "dtype: int64"
      ]
     },
     "execution_count": 74,
     "metadata": {},
     "output_type": "execute_result"
    }
   ],
   "source": [
    "ds[1].isna().sum()"
   ]
  },
  {
   "cell_type": "code",
   "execution_count": 76,
   "metadata": {},
   "outputs": [
    {
     "data": {
      "text/plain": [
       "<AxesSubplot:>"
      ]
     },
     "execution_count": 76,
     "metadata": {},
     "output_type": "execute_result"
    },
    {
     "data": {
      "image/png": "[encoded data removed]",
      "text/plain": [
       "<Figure size 1800x720 with 3 Axes>"
      ]
     },
     "metadata": {},
     "output_type": "display_data"
    }
   ],
   "source": [
    "msno.bar(ds[1])"
   ]
  },
  {
   "cell_type": "code",
   "execution_count": 77,
   "metadata": {},
   "outputs": [
    {
     "data": {
      "text/plain": [
       "<AxesSubplot:>"
      ]
     },
     "execution_count": 77,
     "metadata": {},
     "output_type": "execute_result"
    },
    {
     "data": {
      "image/png": "[encoded data removed]",
      "text/plain": [
       "<Figure size 1800x720 with 2 Axes>"
      ]
     },
     "metadata": {},
     "output_type": "display_data"
    }
   ],
   "source": [
    "msno.matrix(ds[1])"
   ]
  },
  {
   "cell_type": "code",
   "execution_count": 78,
   "metadata": {},
   "outputs": [
    {
     "data": {
      "text/plain": [
       "<AxesSubplot:>"
      ]
     },
     "execution_count": 78,
     "metadata": {},
     "output_type": "execute_result"
    },
    {
     "data": {
      "image/png": "[encoded data removed]",
      "text/plain": [
       "<Figure size 1440x864 with 2 Axes>"
      ]
     },
     "metadata": {},
     "output_type": "display_data"
    }
   ],
   "source": [
    "msno.heatmap(ds[1])"
   ]
  },
  {
   "cell_type": "code",
   "execution_count": 79,
   "metadata": {},
   "outputs": [
    {
     "data": {
      "text/plain": [
       "<AxesSubplot:>"
      ]
     },
     "execution_count": 79,
     "metadata": {},
     "output_type": "execute_result"
    },
    {
     "data": {
      "image/png": "[encoded data removed]",
      "text/plain": [
       "<Figure size 1800x720 with 1 Axes>"
      ]
     },
     "metadata": {},
     "output_type": "display_data"
    }
   ],
   "source": [
    "msno.dendrogram(ds[1])"
   ]
  },
  {
   "cell_type": "code",
   "execution_count": 14,
   "metadata": {},
   "outputs": [
    {
     "data": {
      "text/plain": [
       "[]"
      ]
     },
     "execution_count": 14,
     "metadata": {},
     "output_type": "execute_result"
    }
   ],
   "source": [
    "missing_columns = [col for col in ds[1].columns if ds[1][col].isnull().sum() > 0]\n",
    "missing_columns"
   ]
  },
  {
   "cell_type": "code",
   "execution_count": 15,
   "metadata": {},
   "outputs": [],
   "source": [
    "from mpl_toolkits.mplot3d import Axes3D\n",
    "from sklearn.decomposition import PCA\n",
    "from sklearn.preprocessing import StandardScaler"
   ]
  },
  {
   "cell_type": "code",
   "execution_count": 16,
   "metadata": {},
   "outputs": [
    {
     "data": {
      "image/png": "[encoded data removed]",
      "text/plain": [
       "<Figure size 432x288 with 1 Axes>"
      ]
     },
     "metadata": {
      "needs_background": "light"
     },
     "output_type": "display_data"
    }
   ],
   "source": [
    "sns.lineplot(x=ds[1][\"Years\"], y=ds[1][\"Price\"]);"
   ]
  },
  {
   "cell_type": "code",
   "execution_count": 17,
   "metadata": {},
   "outputs": [
    {
     "data": {
      "image/png": "[encoded data removed]",
      "text/plain": [
       "<Figure size 432x288 with 1 Axes>"
      ]
     },
     "metadata": {
      "needs_background": "light"
     },
     "output_type": "display_data"
    }
   ],
   "source": [
    "ds[1].plot(kind='line');"
   ]
  },
  {
   "cell_type": "code",
   "execution_count": 18,
   "metadata": {},
   "outputs": [],
   "source": [
    "sns.set(rc={\"figure.figsize\":(9, 5)})"
   ]
  },
  {
   "cell_type": "markdown",
   "metadata": {},
   "source": [
    "After analyzing the time series charts, we can say that there is no possibility, namely, it is difficult to single out any seasonal fluctuations, but there are small ups and downs caused by price volatility in the commodity market. And also, it is worth noting that there is a clear positive trend, as the value of the index becomes generally larger over time, despite fluctuations."
   ]
  },
  {
   "cell_type": "markdown",
   "metadata": {},
   "source": [
    "Robusta prices have fallen by 9% this year (compared to the average price in 2019). The weakness reflects rising exports from Vietnam, the world's second largest coffee supplier. Robusta prices are expected to decline by more than 7% in 2020, followed by a slight increase in 2021."
   ]
  },
  {
   "cell_type": "code",
   "execution_count": 19,
   "metadata": {},
   "outputs": [
    {
     "data": {
      "text/plain": [
       "<AxesSubplot:xlabel='Years', ylabel='Price'>"
      ]
     },
     "execution_count": 19,
     "metadata": {},
     "output_type": "execute_result"
    },
    {
     "data": {
      "image/png": "[encoded data removed]",
      "text/plain": [
       "<Figure size 648x360 with 1 Axes>"
      ]
     },
     "metadata": {},
     "output_type": "display_data"
    }
   ],
   "source": [
    "sns.barplot(x=ds[1][\"Years\"], y=ds[1][\"Price\"])"
   ]
  },
  {
   "cell_type": "code",
   "execution_count": 20,
   "metadata": {},
   "outputs": [
    {
     "data": {
      "text/plain": [
       "<AxesSubplot:xlabel='Years', ylabel='Months'>"
      ]
     },
     "execution_count": 20,
     "metadata": {},
     "output_type": "execute_result"
    },
    {
     "data": {
      "image/png": "[encoded data removed]",
      "text/plain": [
       "<Figure size 648x360 with 2 Axes>"
      ]
     },
     "metadata": {},
     "output_type": "display_data"
    }
   ],
   "source": [
    "ds[1] = ds[1].pivot('Months', 'Years', 'Price') \n",
    "\n",
    "sns.heatmap(ds[1])"
   ]
  },
  {
   "cell_type": "markdown",
   "metadata": {},
   "source": [
    "Here we can see that in 2019 and 2020 robusta coffee prices were significantly low relative to other periods and we can see here that starting from the last month of Q3 2021, coffee prices are rising."
   ]
  },
  {
   "cell_type": "code",
   "execution_count": 21,
   "metadata": {},
   "outputs": [
    {
     "data": {
      "text/plain": [
       "<bound method NDFrame.tail of Years   2017  2018  2019  2020  2021  2022\n",
       "Months                                    \n",
       "Apr      NaN  1.95  1.62  1.41  1.64  2.29\n",
       "Aug     2.30  1.78  1.56  1.60  2.10   NaN\n",
       "Dec     1.93  1.71  1.61  1.59  2.48   NaN\n",
       "Feb      NaN  1.97  1.73  1.50  1.62  2.41\n",
       "Jan      NaN  1.95  1.72  1.56  1.56  2.43\n",
       "Jul     2.31  1.86  1.63  1.49  2.08   NaN\n",
       "Jun      NaN  1.90  1.63  1.42  1.87  2.29\n",
       "Mar      NaN  1.94  1.70  1.49  1.63  2.29\n",
       "May      NaN  1.96  1.57  1.42  1.76  2.27\n",
       "Nov     2.01  1.84  1.62  1.60  2.41   NaN\n",
       "Oct     2.17  1.88  1.51  1.51  2.32   NaN\n",
       "Sep     2.19  1.69  1.56  1.60  2.31   NaN>"
      ]
     },
     "execution_count": 21,
     "metadata": {},
     "output_type": "execute_result"
    }
   ],
   "source": [
    "ds[1].tail"
   ]
  },
  {
   "cell_type": "code",
   "execution_count": 25,
   "metadata": {},
   "outputs": [],
   "source": [
    "from statsmodels.graphics.tsaplots import plot_acf"
   ]
  },
  {
   "cell_type": "code",
   "execution_count": 26,
   "metadata": {},
   "outputs": [
    {
     "data": {
      "image/png": "[encoded data removed]",
      "text/plain": [
       "<Figure size 648x360 with 1 Axes>"
      ]
     },
     "execution_count": 26,
     "metadata": {},
     "output_type": "execute_result"
    },
    {
     "data": {
      "image/png": "[encoded data removed]",
      "text/plain": [
       "<Figure size 648x360 with 1 Axes>"
      ]
     },
     "metadata": {},
     "output_type": "display_data"
    }
   ],
   "source": [
    "plot_acf(ds[1].Price)"
   ]
  },
  {
   "cell_type": "code",
   "execution_count": 27,
   "metadata": {},
   "outputs": [],
   "source": [
    "from pandas import Series\n",
    "from matplotlib import pyplot\n",
    "from statsmodels.graphics.tsaplots import plot_acf\n",
    "ds = pandas.read_html(\"https://www.indexmundi.com/commodities/?commodity=robusta-coffee&months=60\")"
   ]
  },
  {
   "cell_type": "code",
   "execution_count": 31,
   "metadata": {},
   "outputs": [
    {
     "data": {
      "text/html": [
       "<div>\n",
       "<style scoped>\n",
       "    .dataframe tbody tr th:only-of-type {\n",
       "        vertical-align: middle;\n",
       "    }\n",
       "\n",
       "    .dataframe tbody tr th {\n",
       "        vertical-align: top;\n",
       "    }\n",
       "\n",
       "    .dataframe thead th {\n",
       "        text-align: right;\n",
       "    }\n",
       "</style>\n",
       "<table border=\"1\" class=\"dataframe\">\n",
       "  <thead>\n",
       "    <tr style=\"text-align: right;\">\n",
       "      <th></th>\n",
       "      <th>Month</th>\n",
       "      <th>Price</th>\n",
       "      <th>Change</th>\n",
       "    </tr>\n",
       "  </thead>\n",
       "  <tbody>\n",
       "    <tr>\n",
       "      <th>0</th>\n",
       "      <td>Jul 2017</td>\n",
       "      <td>2.31</td>\n",
       "      <td>-</td>\n",
       "    </tr>\n",
       "    <tr>\n",
       "      <th>1</th>\n",
       "      <td>Aug 2017</td>\n",
       "      <td>2.30</td>\n",
       "      <td>-0.43%</td>\n",
       "    </tr>\n",
       "    <tr>\n",
       "      <th>2</th>\n",
       "      <td>Sep 2017</td>\n",
       "      <td>2.19</td>\n",
       "      <td>-4.78%</td>\n",
       "    </tr>\n",
       "    <tr>\n",
       "      <th>3</th>\n",
       "      <td>Oct 2017</td>\n",
       "      <td>2.17</td>\n",
       "      <td>-0.91%</td>\n",
       "    </tr>\n",
       "    <tr>\n",
       "      <th>4</th>\n",
       "      <td>Nov 2017</td>\n",
       "      <td>2.01</td>\n",
       "      <td>-7.37%</td>\n",
       "    </tr>\n",
       "    <tr>\n",
       "      <th>5</th>\n",
       "      <td>Dec 2017</td>\n",
       "      <td>1.93</td>\n",
       "      <td>-3.98%</td>\n",
       "    </tr>\n",
       "    <tr>\n",
       "      <th>6</th>\n",
       "      <td>Jan 2018</td>\n",
       "      <td>1.95</td>\n",
       "      <td>1.04%</td>\n",
       "    </tr>\n",
       "    <tr>\n",
       "      <th>7</th>\n",
       "      <td>Feb 2018</td>\n",
       "      <td>1.97</td>\n",
       "      <td>1.03%</td>\n",
       "    </tr>\n",
       "    <tr>\n",
       "      <th>8</th>\n",
       "      <td>Mar 2018</td>\n",
       "      <td>1.94</td>\n",
       "      <td>-1.52%</td>\n",
       "    </tr>\n",
       "    <tr>\n",
       "      <th>9</th>\n",
       "      <td>Apr 2018</td>\n",
       "      <td>1.95</td>\n",
       "      <td>0.52%</td>\n",
       "    </tr>\n",
       "    <tr>\n",
       "      <th>10</th>\n",
       "      <td>May 2018</td>\n",
       "      <td>1.96</td>\n",
       "      <td>0.51%</td>\n",
       "    </tr>\n",
       "    <tr>\n",
       "      <th>11</th>\n",
       "      <td>Jun 2018</td>\n",
       "      <td>1.90</td>\n",
       "      <td>-3.06%</td>\n",
       "    </tr>\n",
       "    <tr>\n",
       "      <th>12</th>\n",
       "      <td>Jul 2018</td>\n",
       "      <td>1.86</td>\n",
       "      <td>-2.11%</td>\n",
       "    </tr>\n",
       "    <tr>\n",
       "      <th>13</th>\n",
       "      <td>Aug 2018</td>\n",
       "      <td>1.78</td>\n",
       "      <td>-4.30%</td>\n",
       "    </tr>\n",
       "    <tr>\n",
       "      <th>14</th>\n",
       "      <td>Sep 2018</td>\n",
       "      <td>1.69</td>\n",
       "      <td>-5.06%</td>\n",
       "    </tr>\n",
       "    <tr>\n",
       "      <th>15</th>\n",
       "      <td>Oct 2018</td>\n",
       "      <td>1.88</td>\n",
       "      <td>11.24%</td>\n",
       "    </tr>\n",
       "    <tr>\n",
       "      <th>16</th>\n",
       "      <td>Nov 2018</td>\n",
       "      <td>1.84</td>\n",
       "      <td>-2.13%</td>\n",
       "    </tr>\n",
       "    <tr>\n",
       "      <th>17</th>\n",
       "      <td>Dec 2018</td>\n",
       "      <td>1.71</td>\n",
       "      <td>-7.07%</td>\n",
       "    </tr>\n",
       "    <tr>\n",
       "      <th>18</th>\n",
       "      <td>Jan 2019</td>\n",
       "      <td>1.72</td>\n",
       "      <td>0.58%</td>\n",
       "    </tr>\n",
       "    <tr>\n",
       "      <th>19</th>\n",
       "      <td>Feb 2019</td>\n",
       "      <td>1.73</td>\n",
       "      <td>0.58%</td>\n",
       "    </tr>\n",
       "    <tr>\n",
       "      <th>20</th>\n",
       "      <td>Mar 2019</td>\n",
       "      <td>1.70</td>\n",
       "      <td>-1.73%</td>\n",
       "    </tr>\n",
       "    <tr>\n",
       "      <th>21</th>\n",
       "      <td>Apr 2019</td>\n",
       "      <td>1.62</td>\n",
       "      <td>-4.71%</td>\n",
       "    </tr>\n",
       "    <tr>\n",
       "      <th>22</th>\n",
       "      <td>May 2019</td>\n",
       "      <td>1.57</td>\n",
       "      <td>-3.09%</td>\n",
       "    </tr>\n",
       "    <tr>\n",
       "      <th>23</th>\n",
       "      <td>Jun 2019</td>\n",
       "      <td>1.63</td>\n",
       "      <td>3.82%</td>\n",
       "    </tr>\n",
       "    <tr>\n",
       "      <th>24</th>\n",
       "      <td>Jul 2019</td>\n",
       "      <td>1.63</td>\n",
       "      <td>0.00%</td>\n",
       "    </tr>\n",
       "    <tr>\n",
       "      <th>25</th>\n",
       "      <td>Aug 2019</td>\n",
       "      <td>1.56</td>\n",
       "      <td>-4.29%</td>\n",
       "    </tr>\n",
       "    <tr>\n",
       "      <th>26</th>\n",
       "      <td>Sep 2019</td>\n",
       "      <td>1.56</td>\n",
       "      <td>0.00%</td>\n",
       "    </tr>\n",
       "    <tr>\n",
       "      <th>27</th>\n",
       "      <td>Oct 2019</td>\n",
       "      <td>1.51</td>\n",
       "      <td>-3.21%</td>\n",
       "    </tr>\n",
       "    <tr>\n",
       "      <th>28</th>\n",
       "      <td>Nov 2019</td>\n",
       "      <td>1.62</td>\n",
       "      <td>7.28%</td>\n",
       "    </tr>\n",
       "    <tr>\n",
       "      <th>29</th>\n",
       "      <td>Dec 2019</td>\n",
       "      <td>1.61</td>\n",
       "      <td>-0.62%</td>\n",
       "    </tr>\n",
       "    <tr>\n",
       "      <th>30</th>\n",
       "      <td>Jan 2020</td>\n",
       "      <td>1.56</td>\n",
       "      <td>-3.11%</td>\n",
       "    </tr>\n",
       "    <tr>\n",
       "      <th>31</th>\n",
       "      <td>Feb 2020</td>\n",
       "      <td>1.50</td>\n",
       "      <td>-3.85%</td>\n",
       "    </tr>\n",
       "    <tr>\n",
       "      <th>32</th>\n",
       "      <td>Mar 2020</td>\n",
       "      <td>1.49</td>\n",
       "      <td>-0.67%</td>\n",
       "    </tr>\n",
       "    <tr>\n",
       "      <th>33</th>\n",
       "      <td>Apr 2020</td>\n",
       "      <td>1.41</td>\n",
       "      <td>-5.37%</td>\n",
       "    </tr>\n",
       "    <tr>\n",
       "      <th>34</th>\n",
       "      <td>May 2020</td>\n",
       "      <td>1.42</td>\n",
       "      <td>0.71%</td>\n",
       "    </tr>\n",
       "    <tr>\n",
       "      <th>35</th>\n",
       "      <td>Jun 2020</td>\n",
       "      <td>1.42</td>\n",
       "      <td>0.00%</td>\n",
       "    </tr>\n",
       "    <tr>\n",
       "      <th>36</th>\n",
       "      <td>Jul 2020</td>\n",
       "      <td>1.49</td>\n",
       "      <td>4.93%</td>\n",
       "    </tr>\n",
       "    <tr>\n",
       "      <th>37</th>\n",
       "      <td>Aug 2020</td>\n",
       "      <td>1.60</td>\n",
       "      <td>7.38%</td>\n",
       "    </tr>\n",
       "    <tr>\n",
       "      <th>38</th>\n",
       "      <td>Sep 2020</td>\n",
       "      <td>1.60</td>\n",
       "      <td>0.00%</td>\n",
       "    </tr>\n",
       "    <tr>\n",
       "      <th>39</th>\n",
       "      <td>Oct 2020</td>\n",
       "      <td>1.51</td>\n",
       "      <td>-5.63%</td>\n",
       "    </tr>\n",
       "    <tr>\n",
       "      <th>40</th>\n",
       "      <td>Nov 2020</td>\n",
       "      <td>1.60</td>\n",
       "      <td>5.96%</td>\n",
       "    </tr>\n",
       "    <tr>\n",
       "      <th>41</th>\n",
       "      <td>Dec 2020</td>\n",
       "      <td>1.59</td>\n",
       "      <td>-0.62%</td>\n",
       "    </tr>\n",
       "    <tr>\n",
       "      <th>42</th>\n",
       "      <td>Jan 2021</td>\n",
       "      <td>1.56</td>\n",
       "      <td>-1.89%</td>\n",
       "    </tr>\n",
       "    <tr>\n",
       "      <th>43</th>\n",
       "      <td>Feb 2021</td>\n",
       "      <td>1.62</td>\n",
       "      <td>3.85%</td>\n",
       "    </tr>\n",
       "    <tr>\n",
       "      <th>44</th>\n",
       "      <td>Mar 2021</td>\n",
       "      <td>1.63</td>\n",
       "      <td>0.62%</td>\n",
       "    </tr>\n",
       "    <tr>\n",
       "      <th>45</th>\n",
       "      <td>Apr 2021</td>\n",
       "      <td>1.64</td>\n",
       "      <td>0.61%</td>\n",
       "    </tr>\n",
       "    <tr>\n",
       "      <th>46</th>\n",
       "      <td>May 2021</td>\n",
       "      <td>1.76</td>\n",
       "      <td>7.32%</td>\n",
       "    </tr>\n",
       "    <tr>\n",
       "      <th>47</th>\n",
       "      <td>Jun 2021</td>\n",
       "      <td>1.87</td>\n",
       "      <td>6.25%</td>\n",
       "    </tr>\n",
       "    <tr>\n",
       "      <th>48</th>\n",
       "      <td>Jul 2021</td>\n",
       "      <td>2.08</td>\n",
       "      <td>11.23%</td>\n",
       "    </tr>\n",
       "    <tr>\n",
       "      <th>49</th>\n",
       "      <td>Aug 2021</td>\n",
       "      <td>2.10</td>\n",
       "      <td>0.96%</td>\n",
       "    </tr>\n",
       "    <tr>\n",
       "      <th>50</th>\n",
       "      <td>Sep 2021</td>\n",
       "      <td>2.31</td>\n",
       "      <td>10.00%</td>\n",
       "    </tr>\n",
       "    <tr>\n",
       "      <th>51</th>\n",
       "      <td>Oct 2021</td>\n",
       "      <td>2.32</td>\n",
       "      <td>0.43%</td>\n",
       "    </tr>\n",
       "    <tr>\n",
       "      <th>52</th>\n",
       "      <td>Nov 2021</td>\n",
       "      <td>2.41</td>\n",
       "      <td>3.88%</td>\n",
       "    </tr>\n",
       "    <tr>\n",
       "      <th>53</th>\n",
       "      <td>Dec 2021</td>\n",
       "      <td>2.48</td>\n",
       "      <td>2.90%</td>\n",
       "    </tr>\n",
       "    <tr>\n",
       "      <th>54</th>\n",
       "      <td>Jan 2022</td>\n",
       "      <td>2.43</td>\n",
       "      <td>-2.02%</td>\n",
       "    </tr>\n",
       "    <tr>\n",
       "      <th>55</th>\n",
       "      <td>Feb 2022</td>\n",
       "      <td>2.41</td>\n",
       "      <td>-0.82%</td>\n",
       "    </tr>\n",
       "    <tr>\n",
       "      <th>56</th>\n",
       "      <td>Mar 2022</td>\n",
       "      <td>2.29</td>\n",
       "      <td>-4.98%</td>\n",
       "    </tr>\n",
       "    <tr>\n",
       "      <th>57</th>\n",
       "      <td>Apr 2022</td>\n",
       "      <td>2.29</td>\n",
       "      <td>0.00%</td>\n",
       "    </tr>\n",
       "    <tr>\n",
       "      <th>58</th>\n",
       "      <td>May 2022</td>\n",
       "      <td>2.27</td>\n",
       "      <td>-0.87%</td>\n",
       "    </tr>\n",
       "    <tr>\n",
       "      <th>59</th>\n",
       "      <td>Jun 2022</td>\n",
       "      <td>2.29</td>\n",
       "      <td>0.88%</td>\n",
       "    </tr>\n",
       "  </tbody>\n",
       "</table>\n",
       "</div>"
      ],
      "text/plain": [
       "       Month  Price  Change\n",
       "0   Jul 2017   2.31       -\n",
       "1   Aug 2017   2.30  -0.43%\n",
       "2   Sep 2017   2.19  -4.78%\n",
       "3   Oct 2017   2.17  -0.91%\n",
       "4   Nov 2017   2.01  -7.37%\n",
       "5   Dec 2017   1.93  -3.98%\n",
       "6   Jan 2018   1.95   1.04%\n",
       "7   Feb 2018   1.97   1.03%\n",
       "8   Mar 2018   1.94  -1.52%\n",
       "9   Apr 2018   1.95   0.52%\n",
       "10  May 2018   1.96   0.51%\n",
       "11  Jun 2018   1.90  -3.06%\n",
       "12  Jul 2018   1.86  -2.11%\n",
       "13  Aug 2018   1.78  -4.30%\n",
       "14  Sep 2018   1.69  -5.06%\n",
       "15  Oct 2018   1.88  11.24%\n",
       "16  Nov 2018   1.84  -2.13%\n",
       "17  Dec 2018   1.71  -7.07%\n",
       "18  Jan 2019   1.72   0.58%\n",
       "19  Feb 2019   1.73   0.58%\n",
       "20  Mar 2019   1.70  -1.73%\n",
       "21  Apr 2019   1.62  -4.71%\n",
       "22  May 2019   1.57  -3.09%\n",
       "23  Jun 2019   1.63   3.82%\n",
       "24  Jul 2019   1.63   0.00%\n",
       "25  Aug 2019   1.56  -4.29%\n",
       "26  Sep 2019   1.56   0.00%\n",
       "27  Oct 2019   1.51  -3.21%\n",
       "28  Nov 2019   1.62   7.28%\n",
       "29  Dec 2019   1.61  -0.62%\n",
       "30  Jan 2020   1.56  -3.11%\n",
       "31  Feb 2020   1.50  -3.85%\n",
       "32  Mar 2020   1.49  -0.67%\n",
       "33  Apr 2020   1.41  -5.37%\n",
       "34  May 2020   1.42   0.71%\n",
       "35  Jun 2020   1.42   0.00%\n",
       "36  Jul 2020   1.49   4.93%\n",
       "37  Aug 2020   1.60   7.38%\n",
       "38  Sep 2020   1.60   0.00%\n",
       "39  Oct 2020   1.51  -5.63%\n",
       "40  Nov 2020   1.60   5.96%\n",
       "41  Dec 2020   1.59  -0.62%\n",
       "42  Jan 2021   1.56  -1.89%\n",
       "43  Feb 2021   1.62   3.85%\n",
       "44  Mar 2021   1.63   0.62%\n",
       "45  Apr 2021   1.64   0.61%\n",
       "46  May 2021   1.76   7.32%\n",
       "47  Jun 2021   1.87   6.25%\n",
       "48  Jul 2021   2.08  11.23%\n",
       "49  Aug 2021   2.10   0.96%\n",
       "50  Sep 2021   2.31  10.00%\n",
       "51  Oct 2021   2.32   0.43%\n",
       "52  Nov 2021   2.41   3.88%\n",
       "53  Dec 2021   2.48   2.90%\n",
       "54  Jan 2022   2.43  -2.02%\n",
       "55  Feb 2022   2.41  -0.82%\n",
       "56  Mar 2022   2.29  -4.98%\n",
       "57  Apr 2022   2.29   0.00%\n",
       "58  May 2022   2.27  -0.87%\n",
       "59  Jun 2022   2.29   0.88%"
      ]
     },
     "execution_count": 31,
     "metadata": {},
     "output_type": "execute_result"
    }
   ],
   "source": [
    "ds[1]"
   ]
  },
  {
   "cell_type": "code",
   "execution_count": 29,
   "metadata": {},
   "outputs": [
    {
     "data": {
      "image/png": "[encoded data removed]",
      "text/plain": [
       "<Figure size 648x360 with 2 Axes>"
      ]
     },
     "metadata": {},
     "output_type": "display_data"
    }
   ],
   "source": [
    "f=plt.figure()\n",
    "ax1 = f.add_subplot(121)\n",
    "ax1.set_title('1st Ordering Differencing')\n",
    "ax1.plot(ds[1].Price.diff())\n",
    "\n",
    "ax2 = f.add_subplot(122)\n",
    "plot_acf(ds[1].Price.diff().dropna(), ax=ax2)\n",
    "plt.show()"
   ]
  },
  {
   "cell_type": "code",
   "execution_count": 30,
   "metadata": {},
   "outputs": [
    {
     "data": {
      "image/png": "[encoded data removed]",
      "text/plain": [
       "<Figure size 648x360 with 2 Axes>"
      ]
     },
     "metadata": {},
     "output_type": "display_data"
    }
   ],
   "source": [
    "f=plt.figure()\n",
    "ax1 = f.add_subplot(121)\n",
    "ax1.set_title('2nd Ordering Differencing')\n",
    "ax1.plot(ds[1].Price.diff().diff())\n",
    "\n",
    "ax2 = f.add_subplot(122)\n",
    "plot_acf(ds[1].Price.diff().diff().dropna(), ax=ax2)\n",
    "plt.show()"
   ]
  },
  {
   "cell_type": "markdown",
   "metadata": {},
   "source": [
    "After analyzing the autocorrelation graphs of the function, we cannot assume that there is a trend. Due to the fact that autocorrelation decay graphs do not decrease monotonically and vice versa. And also that the graph of the partial autocorrelation function has a pronounced value in the first period, as well as peaks of high values near the zero frequencies of the periodogram graph."
   ]
  },
  {
   "cell_type": "code",
   "execution_count": 31,
   "metadata": {},
   "outputs": [
    {
     "name": "stdout",
     "output_type": "stream",
     "text": [
      "p-value: 0.7502940726742173\n",
      "p-value: 4.3458052705247217e-08\n",
      "p-value: 9.62182783215141e-10\n"
     ]
    }
   ],
   "source": [
    "from statsmodels.tsa.stattools import adfuller\n",
    "result = adfuller(ds[1].Price.dropna())\n",
    "print('p-value:',result[1])\n",
    "\n",
    "result = adfuller(ds[1].Price.diff().dropna())\n",
    "print('p-value:',result[1])\n",
    "\n",
    "result = adfuller(ds[1].Price.diff().diff().dropna())\n",
    "print('p-value:',result[1])"
   ]
  },
  {
   "cell_type": "code",
   "execution_count": 52,
   "metadata": {},
   "outputs": [
    {
     "name": "stdout",
     "output_type": "stream",
     "text": [
      "Requirement already satisfied: statsmodels in /opt/anaconda3/lib/python3.7/site-packages (0.13.0)\n",
      "Requirement already satisfied: scipy>=1.3 in /opt/anaconda3/lib/python3.7/site-packages (from statsmodels) (1.3.1)\n",
      "Requirement already satisfied: numpy>=1.17 in /opt/anaconda3/lib/python3.7/site-packages (from statsmodels) (1.19.5)\n",
      "Requirement already satisfied: patsy>=0.5.2 in /opt/anaconda3/lib/python3.7/site-packages (from statsmodels) (0.5.2)\n",
      "Requirement already satisfied: pandas>=0.25 in /opt/anaconda3/lib/python3.7/site-packages (from statsmodels) (1.3.0)\n",
      "Requirement already satisfied: six in /opt/anaconda3/lib/python3.7/site-packages (from patsy>=0.5.2->statsmodels) (1.12.0)\n",
      "Requirement already satisfied: python-dateutil>=2.7.3 in /opt/anaconda3/lib/python3.7/site-packages (from pandas>=0.25->statsmodels) (2.8.0)\n",
      "Requirement already satisfied: pytz>=2017.3 in /opt/anaconda3/lib/python3.7/site-packages (from pandas>=0.25->statsmodels) (2019.3)\n",
      "Note: you may need to restart the kernel to use updated packages.\n"
     ]
    }
   ],
   "source": [
    "pip install statsmodels"
   ]
  },
  {
   "cell_type": "markdown",
   "metadata": {},
   "source": [
    "pipi install statsmodels"
   ]
  },
  {
   "cell_type": "code",
   "execution_count": 32,
   "metadata": {},
   "outputs": [
    {
     "name": "stdout",
     "output_type": "stream",
     "text": [
      "                               SARIMAX Results                                \n",
      "==============================================================================\n",
      "Dep. Variable:                  Price   No. Observations:                   60\n",
      "Model:                 ARIMA(1, 1, 2)   Log Likelihood                  69.745\n",
      "Date:                Thu, 18 Aug 2022   AIC                           -131.490\n",
      "Time:                        21:58:10   BIC                           -123.180\n",
      "Sample:                             0   HQIC                          -128.246\n",
      "                                 - 60                                         \n",
      "Covariance Type:                  opg                                         \n",
      "==============================================================================\n",
      "                 coef    std err          z      P>|z|      [0.025      0.975]\n",
      "------------------------------------------------------------------------------\n",
      "ar.L1          0.7480      0.301      2.484      0.013       0.158       1.338\n",
      "ma.L1         -0.6420      0.331     -1.938      0.053      -1.291       0.007\n",
      "ma.L2          0.0977      0.159      0.616      0.538      -0.213       0.409\n",
      "sigma2         0.0055      0.001      6.006      0.000       0.004       0.007\n",
      "===================================================================================\n",
      "Ljung-Box (L1) (Q):                   0.00   Jarque-Bera (JB):                 3.89\n",
      "Prob(Q):                              0.95   Prob(JB):                         0.14\n",
      "Heteroskedasticity (H):               0.96   Skew:                             0.58\n",
      "Prob(H) (two-sided):                  0.93   Kurtosis:                         3.47\n",
      "===================================================================================\n",
      "\n",
      "Warnings:\n",
      "[1] Covariance matrix calculated using the outer product of gradients (complex-step).\n"
     ]
    }
   ],
   "source": [
    "from statsmodels.tsa.arima.model import ARIMA\n",
    "\n",
    "# 1,1,2 ARIMA Model\n",
    "model = ARIMA(ds[1].Price, order=(1,1,2))\n",
    "model = model.fit()\n",
    "print(model.summary())"
   ]
  },
  {
   "cell_type": "code",
   "execution_count": 33,
   "metadata": {},
   "outputs": [
    {
     "name": "stdout",
     "output_type": "stream",
     "text": [
      "                               SARIMAX Results                                \n",
      "==============================================================================\n",
      "Dep. Variable:                  Price   No. Observations:                   60\n",
      "Model:                 ARIMA(1, 1, 3)   Log Likelihood                  70.042\n",
      "Date:                Thu, 18 Aug 2022   AIC                           -130.084\n",
      "Time:                        21:58:14   BIC                           -119.696\n",
      "Sample:                             0   HQIC                          -126.029\n",
      "                                 - 60                                         \n",
      "Covariance Type:                  opg                                         \n",
      "==============================================================================\n",
      "                 coef    std err          z      P>|z|      [0.025      0.975]\n",
      "------------------------------------------------------------------------------\n",
      "ar.L1          0.4997      0.601      0.832      0.405      -0.677       1.677\n",
      "ma.L1         -0.3967      0.615     -0.645      0.519      -1.603       0.810\n",
      "ma.L2          0.0930      0.143      0.649      0.516      -0.188       0.374\n",
      "ma.L3          0.1503      0.236      0.636      0.525      -0.313       0.614\n",
      "sigma2         0.0054      0.001      6.102      0.000       0.004       0.007\n",
      "===================================================================================\n",
      "Ljung-Box (L1) (Q):                   0.00   Jarque-Bera (JB):                 4.56\n",
      "Prob(Q):                              0.95   Prob(JB):                         0.10\n",
      "Heteroskedasticity (H):               0.97   Skew:                             0.62\n",
      "Prob(H) (two-sided):                  0.94   Kurtosis:                         3.57\n",
      "===================================================================================\n",
      "\n",
      "Warnings:\n",
      "[1] Covariance matrix calculated using the outer product of gradients (complex-step).\n"
     ]
    }
   ],
   "source": [
    "from statsmodels.tsa.arima.model import ARIMA\n",
    "\n",
    "# 1,1,3 ARIMA Model\n",
    "model = ARIMA(ds[1].Price, order=(1,1,3))\n",
    "model = model.fit()\n",
    "print(model.summary())"
   ]
  },
  {
   "cell_type": "code",
   "execution_count": 34,
   "metadata": {},
   "outputs": [
    {
     "name": "stdout",
     "output_type": "stream",
     "text": [
      "                               SARIMAX Results                                \n",
      "==============================================================================\n",
      "Dep. Variable:                  Price   No. Observations:                   60\n",
      "Model:                 ARIMA(1, 1, 4)   Log Likelihood                  70.132\n",
      "Date:                Thu, 18 Aug 2022   AIC                           -128.264\n",
      "Time:                        21:58:16   BIC                           -115.799\n",
      "Sample:                             0   HQIC                          -123.398\n",
      "                                 - 60                                         \n",
      "Covariance Type:                  opg                                         \n",
      "==============================================================================\n",
      "                 coef    std err          z      P>|z|      [0.025      0.975]\n",
      "------------------------------------------------------------------------------\n",
      "ar.L1          0.2497      1.360      0.184      0.854      -2.415       2.915\n",
      "ma.L1         -0.1471      1.397     -0.105      0.916      -2.885       2.591\n",
      "ma.L2          0.1288      0.165      0.779      0.436      -0.195       0.453\n",
      "ma.L3          0.1716      0.272      0.630      0.528      -0.362       0.705\n",
      "ma.L4          0.0902      0.407      0.222      0.825      -0.708       0.889\n",
      "sigma2         0.0054      0.001      5.976      0.000       0.004       0.007\n",
      "===================================================================================\n",
      "Ljung-Box (L1) (Q):                   0.00   Jarque-Bera (JB):                 4.74\n",
      "Prob(Q):                              0.97   Prob(JB):                         0.09\n",
      "Heteroskedasticity (H):               0.95   Skew:                             0.62\n",
      "Prob(H) (two-sided):                  0.92   Kurtosis:                         3.62\n",
      "===================================================================================\n",
      "\n",
      "Warnings:\n",
      "[1] Covariance matrix calculated using the outer product of gradients (complex-step).\n"
     ]
    }
   ],
   "source": [
    "from statsmodels.tsa.arima.model import ARIMA\n",
    "\n",
    "# 1,1,4 ARIMA Model\n",
    "model = ARIMA(ds[1].Price, order=(1,1,4))\n",
    "model = model.fit()\n",
    "print(model.summary())"
   ]
  },
  {
   "cell_type": "code",
   "execution_count": 38,
   "metadata": {},
   "outputs": [
    {
     "name": "stdout",
     "output_type": "stream",
     "text": [
      "                               SARIMAX Results                                \n",
      "==============================================================================\n",
      "Dep. Variable:                  Price   No. Observations:                   60\n",
      "Model:                 ARIMA(1, 1, 2)   Log Likelihood                  69.745\n",
      "Date:                Thu, 18 Aug 2022   AIC                           -131.490\n",
      "Time:                        21:59:27   BIC                           -123.180\n",
      "Sample:                             0   HQIC                          -128.246\n",
      "                                 - 60                                         \n",
      "Covariance Type:                  opg                                         \n",
      "==============================================================================\n",
      "                 coef    std err          z      P>|z|      [0.025      0.975]\n",
      "------------------------------------------------------------------------------\n",
      "ar.L1          0.7480      0.301      2.484      0.013       0.158       1.338\n",
      "ma.L1         -0.6420      0.331     -1.938      0.053      -1.291       0.007\n",
      "ma.L2          0.0977      0.159      0.616      0.538      -0.213       0.409\n",
      "sigma2         0.0055      0.001      6.006      0.000       0.004       0.007\n",
      "===================================================================================\n",
      "Ljung-Box (L1) (Q):                   0.00   Jarque-Bera (JB):                 3.89\n",
      "Prob(Q):                              0.95   Prob(JB):                         0.14\n",
      "Heteroskedasticity (H):               0.96   Skew:                             0.58\n",
      "Prob(H) (two-sided):                  0.93   Kurtosis:                         3.47\n",
      "===================================================================================\n",
      "\n",
      "Warnings:\n",
      "[1] Covariance matrix calculated using the outer product of gradients (complex-step).\n"
     ]
    }
   ],
   "source": [
    "from statsmodels.tsa.arima.model import ARIMA\n",
    "\n",
    "# 1,1,2 ARIMA Model\n",
    "model = ARIMA(ds[1].Price, order=(1,1,2))\n",
    "model_fit = model.fit()\n",
    "print(model_fit.summary())"
   ]
  },
  {
   "cell_type": "code",
   "execution_count": 39,
   "metadata": {},
   "outputs": [
    {
     "name": "stdout",
     "output_type": "stream",
     "text": [
      "                               SARIMAX Results                                \n",
      "==============================================================================\n",
      "Dep. Variable:                  Price   No. Observations:                   60\n",
      "Model:                 ARIMA(1, 1, 1)   Log Likelihood                  69.591\n",
      "Date:                Thu, 18 Aug 2022   AIC                           -133.181\n",
      "Time:                        22:00:11   BIC                           -126.948\n",
      "Sample:                             0   HQIC                          -130.748\n",
      "                                 - 60                                         \n",
      "Covariance Type:                  opg                                         \n",
      "==============================================================================\n",
      "                 coef    std err          z      P>|z|      [0.025      0.975]\n",
      "------------------------------------------------------------------------------\n",
      "ar.L1          0.8333      0.231      3.606      0.000       0.380       1.286\n",
      "ma.L1         -0.6818      0.319     -2.136      0.033      -1.307      -0.056\n",
      "sigma2         0.0055      0.001      6.043      0.000       0.004       0.007\n",
      "===================================================================================\n",
      "Ljung-Box (L1) (Q):                   0.06   Jarque-Bera (JB):                 4.81\n",
      "Prob(Q):                              0.80   Prob(JB):                         0.09\n",
      "Heteroskedasticity (H):               1.06   Skew:                             0.65\n",
      "Prob(H) (two-sided):                  0.89   Kurtosis:                         3.53\n",
      "===================================================================================\n",
      "\n",
      "Warnings:\n",
      "[1] Covariance matrix calculated using the outer product of gradients (complex-step).\n"
     ]
    }
   ],
   "source": [
    "# 1,1,1 ARIMA Model\n",
    "model = ARIMA(ds[1].Price, order=(1,1,1))\n",
    "model_fit = model.fit()\n",
    "print(model_fit.summary())"
   ]
  },
  {
   "cell_type": "code",
   "execution_count": 45,
   "metadata": {},
   "outputs": [
    {
     "name": "stdout",
     "output_type": "stream",
     "text": [
      "Collecting statsmodels\n",
      "\u001b[?25l  Downloading https://files.pythonhosted.org/packages/5e/d3/a8486555e1da06e3ef258ef7d2f0f0e2e2284bebeca424ab502a6814b84f/statsmodels-0.13.2-cp37-cp37m-macosx_10_9_x86_64.whl (9.5MB)\n",
      "\u001b[K     |████████████████████████████████| 9.5MB 715kB/s eta 0:00:01\n",
      "\u001b[?25hRequirement already satisfied, skipping upgrade: scipy>=1.3 in /opt/anaconda3/lib/python3.7/site-packages (from statsmodels) (1.3.1)\n",
      "Requirement already satisfied, skipping upgrade: packaging>=21.3 in /opt/anaconda3/lib/python3.7/site-packages (from statsmodels) (21.3)\n",
      "Requirement already satisfied, skipping upgrade: patsy>=0.5.2 in /opt/anaconda3/lib/python3.7/site-packages (from statsmodels) (0.5.2)\n",
      "Requirement already satisfied, skipping upgrade: pandas>=0.25 in /opt/anaconda3/lib/python3.7/site-packages (from statsmodels) (1.3.0)\n",
      "Requirement already satisfied, skipping upgrade: numpy>=1.17 in /opt/anaconda3/lib/python3.7/site-packages (from statsmodels) (1.19.5)\n",
      "Requirement already satisfied, skipping upgrade: pyparsing!=3.0.5,>=2.0.2 in /opt/anaconda3/lib/python3.7/site-packages (from packaging>=21.3->statsmodels) (2.4.2)\n",
      "Requirement already satisfied, skipping upgrade: six in /opt/anaconda3/lib/python3.7/site-packages (from patsy>=0.5.2->statsmodels) (1.12.0)\n",
      "Requirement already satisfied, skipping upgrade: pytz>=2017.3 in /opt/anaconda3/lib/python3.7/site-packages (from pandas>=0.25->statsmodels) (2019.3)\n",
      "Requirement already satisfied, skipping upgrade: python-dateutil>=2.7.3 in /opt/anaconda3/lib/python3.7/site-packages (from pandas>=0.25->statsmodels) (2.8.0)\n",
      "Installing collected packages: statsmodels\n",
      "  Found existing installation: statsmodels 0.13.0\n",
      "    Uninstalling statsmodels-0.13.0:\n",
      "      Successfully uninstalled statsmodels-0.13.0\n",
      "Successfully installed statsmodels-0.13.2\n",
      "Note: you may need to restart the kernel to use updated packages.\n"
     ]
    }
   ],
   "source": [
    "pip install statsmodels --upgrade"
   ]
  },
  {
   "cell_type": "code",
   "execution_count": 56,
   "metadata": {},
   "outputs": [
    {
     "name": "stdout",
     "output_type": "stream",
     "text": [
      "Requirement already satisfied: matplotlib in /opt/anaconda3/lib/python3.7/site-packages (3.4.3)\n",
      "Requirement already satisfied: pyparsing>=2.2.1 in /opt/anaconda3/lib/python3.7/site-packages (from matplotlib) (2.4.2)\n",
      "Requirement already satisfied: numpy>=1.16 in /opt/anaconda3/lib/python3.7/site-packages (from matplotlib) (1.19.5)\n",
      "Requirement already satisfied: kiwisolver>=1.0.1 in /opt/anaconda3/lib/python3.7/site-packages (from matplotlib) (1.1.0)\n",
      "Requirement already satisfied: python-dateutil>=2.7 in /opt/anaconda3/lib/python3.7/site-packages (from matplotlib) (2.8.0)\n",
      "Requirement already satisfied: cycler>=0.10 in /opt/anaconda3/lib/python3.7/site-packages (from matplotlib) (0.10.0)\n",
      "Requirement already satisfied: pillow>=6.2.0 in /opt/anaconda3/lib/python3.7/site-packages (from matplotlib) (6.2.0)\n",
      "Requirement already satisfied: setuptools in /opt/anaconda3/lib/python3.7/site-packages (from kiwisolver>=1.0.1->matplotlib) (41.4.0)\n",
      "Requirement already satisfied: six>=1.5 in /opt/anaconda3/lib/python3.7/site-packages (from python-dateutil>=2.7->matplotlib) (1.12.0)\n",
      "Note: you may need to restart the kernel to use updated packages.\n"
     ]
    }
   ],
   "source": [
    "pip install matplotlib"
   ]
  },
  {
   "cell_type": "code",
   "execution_count": 75,
   "metadata": {},
   "outputs": [
    {
     "data": {
      "text/plain": [
       "<AxesSubplot:xlabel='Years'>"
      ]
     },
     "execution_count": 75,
     "metadata": {},
     "output_type": "execute_result"
    },
    {
     "data": {
      "image/png": "[encoded data removed]",
      "text/plain": [
       "<Figure size 648x360 with 1 Axes>"
      ]
     },
     "metadata": {},
     "output_type": "display_data"
    }
   ],
   "source": [
    "ds[1].plot(x='Years', y='Price', xlim=(2018-2021))"
   ]
  },
  {
   "cell_type": "code",
   "execution_count": 166,
   "metadata": {},
   "outputs": [
    {
     "data": {
      "text/plain": [
       "[<matplotlib.lines.Line2D at 0x7faabacc9410>]"
      ]
     },
     "execution_count": 166,
     "metadata": {},
     "output_type": "execute_result"
    },
    {
     "data": {
      "image/png": "[encoded data removed]",
      "text/plain": [
       "<Figure size 648x360 with 1 Axes>"
      ]
     },
     "metadata": {},
     "output_type": "display_data"
    }
   ],
   "source": [
    "predict=model_fit.predict(typ='levels')\n",
    "plt.plot(predict)\n",
    "plt.plot('Price')"
   ]
  },
  {
   "cell_type": "code",
   "execution_count": 180,
   "metadata": {},
   "outputs": [
    {
     "name": "stdout",
     "output_type": "stream",
     "text": [
      "Collecting package metadata (current_repodata.json): done\n",
      "Solving environment: done\n",
      "\n",
      "## Package Plan ##\n",
      "\n",
      "  environment location: /opt/anaconda3\n",
      "\n",
      "  added / updated specs:\n",
      "    - statsmodels\n",
      "\n",
      "\n",
      "The following packages will be downloaded:\n",
      "\n",
      "    package                    |            build\n",
      "    ---------------------------|-----------------\n",
      "    conda-4.13.0               |   py37hecd8cb5_0         900 KB\n",
      "    ------------------------------------------------------------\n",
      "                                           Total:         900 KB\n",
      "\n",
      "The following packages will be UPDATED:\n",
      "\n",
      "  conda                                       4.7.12-py37_0 --> 4.13.0-py37hecd8cb5_0\n",
      "\n",
      "\n",
      "\n",
      "Downloading and Extracting Packages\n",
      "conda-4.13.0         | 900 KB    | ##################################### | 100% \n",
      "Preparing transaction: done\n",
      "Verifying transaction: done\n",
      "Executing transaction: done\n",
      "\n",
      "Note: you may need to restart the kernel to use updated packages.\n"
     ]
    }
   ],
   "source": [
    "conda install statsmodels"
   ]
  },
  {
   "cell_type": "code",
   "execution_count": 85,
   "metadata": {},
   "outputs": [
    {
     "name": "stdout",
     "output_type": "stream",
     "text": [
      "Collecting pandas\n",
      "\u001b[?25l  Downloading https://files.pythonhosted.org/packages/44/d9/fa9cb383b482b574e6926eabc437fe57b59908a7ed940612c8c308471872/pandas-1.3.5-cp37-cp37m-macosx_10_9_x86_64.whl (11.0MB)\n",
      "\u001b[K     |████████████████████████████████| 11.0MB 2.7MB/s eta 0:00:01\n",
      "\u001b[?25hRequirement already satisfied, skipping upgrade: numpy>=1.17.3; platform_machine != \"aarch64\" and platform_machine != \"arm64\" and python_version < \"3.10\" in /opt/anaconda3/lib/python3.7/site-packages (from pandas) (1.19.5)\n",
      "Requirement already satisfied, skipping upgrade: python-dateutil>=2.7.3 in /opt/anaconda3/lib/python3.7/site-packages (from pandas) (2.8.0)\n",
      "Requirement already satisfied, skipping upgrade: pytz>=2017.3 in /opt/anaconda3/lib/python3.7/site-packages (from pandas) (2019.3)\n",
      "Requirement already satisfied, skipping upgrade: six>=1.5 in /opt/anaconda3/lib/python3.7/site-packages (from python-dateutil>=2.7.3->pandas) (1.12.0)\n",
      "Installing collected packages: pandas\n",
      "  Found existing installation: pandas 1.3.0\n",
      "    Uninstalling pandas-1.3.0:\n",
      "      Successfully uninstalled pandas-1.3.0\n",
      "Successfully installed pandas-1.3.5\n",
      "Note: you may need to restart the kernel to use updated packages.\n"
     ]
    }
   ],
   "source": [
    "pip install pandas --upgrade"
   ]
  },
  {
   "cell_type": "code",
   "execution_count": 94,
   "metadata": {},
   "outputs": [],
   "source": [
    "from pandas.plotting import autocorrelation_plot"
   ]
  },
  {
   "cell_type": "code",
   "execution_count": 80,
   "metadata": {},
   "outputs": [],
   "source": [
    "import pandas as pd"
   ]
  },
  {
   "cell_type": "code",
   "execution_count": 97,
   "metadata": {},
   "outputs": [
    {
     "data": {
      "text/plain": [
       "<AxesSubplot:xlabel='Lag', ylabel='Autocorrelation'>"
      ]
     },
     "execution_count": 97,
     "metadata": {},
     "output_type": "execute_result"
    },
    {
     "data": {
      "image/png": "[encoded data removed]",
      "text/plain": [
       "<Figure size 648x360 with 1 Axes>"
      ]
     },
     "metadata": {},
     "output_type": "display_data"
    }
   ],
   "source": [
    "pandas.plotting.autocorrelation_plot(ds[1]['Price'])"
   ]
  },
  {
   "cell_type": "markdown",
   "metadata": {},
   "source": [
    "The fact that the blue line goes beyond the horizontal gray lines indicates that this is a non-stationary time series with a correlation structure. For my purposes here, I'm not interested in fitting the model to the data. Instead, I just want to know more about the length of a typical price cycle. In this case, viewing the autocorrelation function of the time series in the frequency domain rather than the time domain helps."
   ]
  },
  {
   "cell_type": "code",
   "execution_count": 135,
   "metadata": {},
   "outputs": [
    {
     "data": {
      "image/png": "[encoded data removed]",
      "text/plain": [
       "<Figure size 648x360 with 2 Axes>"
      ]
     },
     "metadata": {},
     "output_type": "display_data"
    }
   ],
   "source": [
    "# Plot residual errors\n",
    "residuals = pd.DataFrame(model_fit.resid)\n",
    "fig, ax = plt.subplots(1,2)\n",
    "residuals.plot(title=\"Residuals\", ax=ax[0])\n",
    "residuals.plot(kind='kde', title='Density', ax=ax[1])\n",
    "plt.show()"
   ]
  },
  {
   "cell_type": "markdown",
   "metadata": {},
   "source": [
    "Results: This sample allows us to evaluate price changes, but not so deeply due to the fact that there are very few variables. But we can say that there is a trend, initially it was slowly decreasing, but then slowly increasing. These prices are influenced by production factors, that is, the more the production of this type of coffee, the lower the price will be, and the price of coffee fell, respectively, this was due to Vietnam. The increase in prices began because the weather conditions in Brazil ruined the harvest. The next 2-3 years, the price will mainly rise. And here it is worth paying attention, yes, there will be more production, now Colombia is also starting to produce this type of coffee, but the demand will be large due to the fact that this type of coffee is inexpensive. In China, people began to live better and the middle class became larger, and there will also be a greater need for this type of coffee. Also, Robusta is the most sensitive to temperature, so the risk that there may be a shortage of this product is also great."
   ]
  }
 ],
 "metadata": {
  "kernelspec": {
   "display_name": "Python 3 (ipykernel)",
   "language": "python",
   "name": "python3"
  },
  "language_info": {
   "codemirror_mode": {
    "name": "ipython",
    "version": 3
   },
   "file_extension": ".py",
   "mimetype": "text/x-python",
   "name": "python",
   "nbconvert_exporter": "python",
   "pygments_lexer": "ipython3",
   "version": "3.11.5"
  }
 },
 "nbformat": 4,
 "nbformat_minor": 2
}
